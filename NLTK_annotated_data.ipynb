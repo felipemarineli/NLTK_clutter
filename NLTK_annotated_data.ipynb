{
 "cells": [
  {
   "cell_type": "code",
   "execution_count": 1,
   "metadata": {},
   "outputs": [
    {
     "name": "stderr",
     "output_type": "stream",
     "text": [
      "[nltk_data] Downloading package punkt to\n",
      "[nltk_data]     /Users/felipemarineli/nltk_data...\n",
      "[nltk_data]   Package punkt is already up-to-date!\n"
     ]
    },
    {
     "data": {
      "text/plain": [
       "True"
      ]
     },
     "execution_count": 1,
     "metadata": {},
     "output_type": "execute_result"
    }
   ],
   "source": [
    "import json, jmespath\n",
    "import pandas as pd\n",
    "import numpy as np\n",
    "import nltk\n",
    "import tensorflow as tf\n",
    "from tensorflow import keras\n",
    "from tensorflow.keras.preprocessing.text import Tokenizer\n",
    "nltk.download('punkt')\n",
    "\n",
    "# url for reference: https://www.wsav.com/news/national-news/student-suspended-after-posting-warnings-of-rapist/"
   ]
  },
  {
   "cell_type": "code",
   "execution_count": 2,
   "metadata": {
    "scrolled": true
   },
   "outputs": [
    {
     "name": "stdout",
     "output_type": "stream",
     "text": [
      "CAPE ELIZABETH, Maine (WCSH) – A sophomore at Maine’s Cape Elizabeth High School was suspended for bullying after she left sticky notes in two girls bathrooms reading, “There’s a rapist in our school and you know who it is.” “It makes me angry that I’m being punished for bullying and a rapist isn’t being punished for raping people,” Aela Mansmann said Friday. “I felt this was important — that this was common knowledge.” Mansmann said allegations of sexual assaults have occurred for years and the administration hasn’t listened to the allegations. She said she posted the notes because she and other students don’t feel safe at school. “On a day-to-day level we don’t feel believed,” she said. “We don’t feel supported.” School officials say the law requires they are required by law to investigate any time a student bullies another student, and said they are confident in their investigation of the incident. Read more: http://bit.ly/2AYfgGE Related Content Police: High school coach lifted $40 from player’s wallet School district: Rapper punched student during cash scramble\n"
     ]
    }
   ],
   "source": [
    "path_to_json = \"/Users/felipemarineli/Environments/NLP_clutter/sample2.json\"\n",
    "f = \"body.content.text\"\n",
    "\n",
    "with open(path_to_json, 'rb') as json_sample:\n",
    "    parsed_json = json.load(json_sample)\n",
    "\n",
    "expression = jmespath.compile(f)\n",
    "\n",
    "text = expression.search(parsed_json)\n",
    "\n",
    "print(text)"
   ]
  },
  {
   "cell_type": "code",
   "execution_count": 3,
   "metadata": {
    "scrolled": true
   },
   "outputs": [
    {
     "name": "stdout",
     "output_type": "stream",
     "text": [
      "['CAPE ELIZABETH, Maine (WCSH) – A sophomore at Maine’s Cape Elizabeth High School was suspended for bullying after she left sticky notes in two girls bathrooms reading, “There’s a rapist in our school and you know who it is.” “It makes me angry that I’m being punished for bullying and a rapist isn’t being punished for raping people,” Aela Mansmann said Friday.', '“I felt this was important — that this was common knowledge.” Mansmann said allegations of sexual assaults have occurred for years and the administration hasn’t listened to the allegations.', 'She said she posted the notes because she and other students don’t feel safe at school.', '“On a day-to-day level we don’t feel believed,” she said.', '“We don’t feel supported.” School officials say the law requires they are required by law to investigate any time a student bullies another student, and said they are confident in their investigation of the incident.', 'Read more: http://bit.ly/2AYfgGE Related Content Police: High school coach lifted $40 from player’s wallet School district: Rapper punched student during cash scramble']\n"
     ]
    }
   ],
   "source": [
    "sent_detector = nltk.data.load('tokenizers/punkt/english.pickle')\n",
    "\n",
    "tokens = sent_detector.tokenize(text.strip())\n",
    "\n",
    "print(tokens)"
   ]
  },
  {
   "cell_type": "code",
   "execution_count": 4,
   "metadata": {},
   "outputs": [
    {
     "data": {
      "text/html": [
       "<div>\n",
       "<style scoped>\n",
       "    .dataframe tbody tr th:only-of-type {\n",
       "        vertical-align: middle;\n",
       "    }\n",
       "\n",
       "    .dataframe tbody tr th {\n",
       "        vertical-align: top;\n",
       "    }\n",
       "\n",
       "    .dataframe thead th {\n",
       "        text-align: right;\n",
       "    }\n",
       "</style>\n",
       "<table border=\"1\" class=\"dataframe\">\n",
       "  <thead>\n",
       "    <tr style=\"text-align: right;\">\n",
       "      <th></th>\n",
       "      <th>text_chunk</th>\n",
       "      <th>target</th>\n",
       "    </tr>\n",
       "  </thead>\n",
       "  <tbody>\n",
       "    <tr>\n",
       "      <th>0</th>\n",
       "      <td>CAPE ELIZABETH, Maine (WCSH) – A sophomore at ...</td>\n",
       "      <td></td>\n",
       "    </tr>\n",
       "    <tr>\n",
       "      <th>1</th>\n",
       "      <td>“I felt this was important — that this was com...</td>\n",
       "      <td></td>\n",
       "    </tr>\n",
       "    <tr>\n",
       "      <th>2</th>\n",
       "      <td>She said she posted the notes because she and ...</td>\n",
       "      <td></td>\n",
       "    </tr>\n",
       "    <tr>\n",
       "      <th>3</th>\n",
       "      <td>“On a day-to-day level we don’t feel believed,...</td>\n",
       "      <td></td>\n",
       "    </tr>\n",
       "    <tr>\n",
       "      <th>4</th>\n",
       "      <td>“We don’t feel supported.” School officials sa...</td>\n",
       "      <td></td>\n",
       "    </tr>\n",
       "    <tr>\n",
       "      <th>5</th>\n",
       "      <td>Read more: http://bit.ly/2AYfgGE Related Conte...</td>\n",
       "      <td></td>\n",
       "    </tr>\n",
       "  </tbody>\n",
       "</table>\n",
       "</div>"
      ],
      "text/plain": [
       "                                          text_chunk target\n",
       "0  CAPE ELIZABETH, Maine (WCSH) – A sophomore at ...       \n",
       "1  “I felt this was important — that this was com...       \n",
       "2  She said she posted the notes because she and ...       \n",
       "3  “On a day-to-day level we don’t feel believed,...       \n",
       "4  “We don’t feel supported.” School officials sa...       \n",
       "5  Read more: http://bit.ly/2AYfgGE Related Conte...       "
      ]
     },
     "execution_count": 4,
     "metadata": {},
     "output_type": "execute_result"
    }
   ],
   "source": [
    "df = pd.DataFrame(tokens)\n",
    "df.columns = ['text_chunk']\n",
    "df['target'] = ''\n",
    "\n",
    "df.head(6)"
   ]
  },
  {
   "cell_type": "code",
   "execution_count": 5,
   "metadata": {},
   "outputs": [],
   "source": [
    "#df.to_csv(\"test.csv\")\n",
    "\n",
    "# Annotation takes place"
   ]
  },
  {
   "cell_type": "code",
   "execution_count": 6,
   "metadata": {},
   "outputs": [],
   "source": [
    "df = pd.read_csv(\"/Users/felipemarineli/Environments/NLP_clutter/test.csv\", index_col=0)"
   ]
  },
  {
   "cell_type": "code",
   "execution_count": 7,
   "metadata": {},
   "outputs": [
    {
     "data": {
      "text/html": [
       "<div>\n",
       "<style scoped>\n",
       "    .dataframe tbody tr th:only-of-type {\n",
       "        vertical-align: middle;\n",
       "    }\n",
       "\n",
       "    .dataframe tbody tr th {\n",
       "        vertical-align: top;\n",
       "    }\n",
       "\n",
       "    .dataframe thead th {\n",
       "        text-align: right;\n",
       "    }\n",
       "</style>\n",
       "<table border=\"1\" class=\"dataframe\">\n",
       "  <thead>\n",
       "    <tr style=\"text-align: right;\">\n",
       "      <th></th>\n",
       "      <th>text_chunk</th>\n",
       "      <th>target</th>\n",
       "    </tr>\n",
       "  </thead>\n",
       "  <tbody>\n",
       "    <tr>\n",
       "      <th>0</th>\n",
       "      <td>CAPE ELIZABETH, Maine (WCSH) – A sophomore at ...</td>\n",
       "      <td>0</td>\n",
       "    </tr>\n",
       "    <tr>\n",
       "      <th>1</th>\n",
       "      <td>“I felt this was important — that this was com...</td>\n",
       "      <td>0</td>\n",
       "    </tr>\n",
       "    <tr>\n",
       "      <th>2</th>\n",
       "      <td>She said she posted the notes because she and ...</td>\n",
       "      <td>0</td>\n",
       "    </tr>\n",
       "    <tr>\n",
       "      <th>3</th>\n",
       "      <td>“On a day-to-day level we don’t feel believed,...</td>\n",
       "      <td>0</td>\n",
       "    </tr>\n",
       "    <tr>\n",
       "      <th>4</th>\n",
       "      <td>“We don’t feel supported.” School officials sa...</td>\n",
       "      <td>0</td>\n",
       "    </tr>\n",
       "    <tr>\n",
       "      <th>5</th>\n",
       "      <td>Read more: http://bit.ly/2AYfgGE Related Conte...</td>\n",
       "      <td>1</td>\n",
       "    </tr>\n",
       "  </tbody>\n",
       "</table>\n",
       "</div>"
      ],
      "text/plain": [
       "                                          text_chunk  target\n",
       "0  CAPE ELIZABETH, Maine (WCSH) – A sophomore at ...       0\n",
       "1  “I felt this was important — that this was com...       0\n",
       "2  She said she posted the notes because she and ...       0\n",
       "3  “On a day-to-day level we don’t feel believed,...       0\n",
       "4  “We don’t feel supported.” School officials sa...       0\n",
       "5  Read more: http://bit.ly/2AYfgGE Related Conte...       1"
      ]
     },
     "execution_count": 7,
     "metadata": {},
     "output_type": "execute_result"
    }
   ],
   "source": [
    "df.head(6)"
   ]
  },
  {
   "cell_type": "code",
   "execution_count": 8,
   "metadata": {},
   "outputs": [
    {
     "name": "stderr",
     "output_type": "stream",
     "text": [
      "/Users/felipemarineli/Environments/NLP_clutter/lib/python3.7/site-packages/ipykernel_launcher.py:6: SettingWithCopyWarning: \n",
      "A value is trying to be set on a copy of a slice from a DataFrame\n",
      "\n",
      "See the caveats in the documentation: http://pandas.pydata.org/pandas-docs/stable/user_guide/indexing.html#returning-a-view-versus-a-copy\n",
      "  \n"
     ]
    }
   ],
   "source": [
    "tokenizer = Tokenizer()\n",
    "tokenizer.fit_on_texts(df['text_chunk'])\n",
    "word_index = tokenizer.word_index\n",
    "\n",
    "for i, chunk in enumerate(df['text_chunk']):\n",
    "    df['text_chunk'][i] = tokenizer.texts_to_sequences([chunk])[0]"
   ]
  },
  {
   "cell_type": "code",
   "execution_count": 9,
   "metadata": {
    "scrolled": true
   },
   "outputs": [
    {
     "data": {
      "text/html": [
       "<div>\n",
       "<style scoped>\n",
       "    .dataframe tbody tr th:only-of-type {\n",
       "        vertical-align: middle;\n",
       "    }\n",
       "\n",
       "    .dataframe tbody tr th {\n",
       "        vertical-align: top;\n",
       "    }\n",
       "\n",
       "    .dataframe thead th {\n",
       "        text-align: right;\n",
       "    }\n",
       "</style>\n",
       "<table border=\"1\" class=\"dataframe\">\n",
       "  <thead>\n",
       "    <tr style=\"text-align: right;\">\n",
       "      <th></th>\n",
       "      <th>text_chunk</th>\n",
       "      <th>target</th>\n",
       "    </tr>\n",
       "  </thead>\n",
       "  <tbody>\n",
       "    <tr>\n",
       "      <th>0</th>\n",
       "      <td>[15, 16, 33, 34, 35, 2, 36, 17, 37, 15, 16, 18...</td>\n",
       "      <td>0</td>\n",
       "    </tr>\n",
       "    <tr>\n",
       "      <th>1</th>\n",
       "      <td>[63, 64, 26, 9, 65, 66, 22, 26, 9, 67, 68, 5, ...</td>\n",
       "      <td>0</td>\n",
       "    </tr>\n",
       "    <tr>\n",
       "      <th>2</th>\n",
       "      <td>[3, 6, 3, 77, 7, 20, 78, 3, 4, 79, 80, 12, 13,...</td>\n",
       "      <td>0</td>\n",
       "    </tr>\n",
       "    <tr>\n",
       "      <th>3</th>\n",
       "      <td>[82, 2, 29, 11, 29, 83, 84, 12, 13, 85, 5, 3, 6]</td>\n",
       "      <td>0</td>\n",
       "    </tr>\n",
       "    <tr>\n",
       "      <th>4</th>\n",
       "      <td>[86, 12, 13, 87, 5, 1, 88, 89, 7, 30, 90, 31, ...</td>\n",
       "      <td>0</td>\n",
       "    </tr>\n",
       "    <tr>\n",
       "      <th>5</th>\n",
       "      <td>[102, 103, 104, 105, 106, 107, 108, 109, 110, ...</td>\n",
       "      <td>1</td>\n",
       "    </tr>\n",
       "  </tbody>\n",
       "</table>\n",
       "</div>"
      ],
      "text/plain": [
       "                                          text_chunk  target\n",
       "0  [15, 16, 33, 34, 35, 2, 36, 17, 37, 15, 16, 18...       0\n",
       "1  [63, 64, 26, 9, 65, 66, 22, 26, 9, 67, 68, 5, ...       0\n",
       "2  [3, 6, 3, 77, 7, 20, 78, 3, 4, 79, 80, 12, 13,...       0\n",
       "3   [82, 2, 29, 11, 29, 83, 84, 12, 13, 85, 5, 3, 6]       0\n",
       "4  [86, 12, 13, 87, 5, 1, 88, 89, 7, 30, 90, 31, ...       0\n",
       "5  [102, 103, 104, 105, 106, 107, 108, 109, 110, ...       1"
      ]
     },
     "execution_count": 9,
     "metadata": {},
     "output_type": "execute_result"
    }
   ],
   "source": [
    "df.head(6)"
   ]
  },
  {
   "cell_type": "code",
   "execution_count": 10,
   "metadata": {},
   "outputs": [
    {
     "data": {
      "text/plain": [
       "text_chunk    object\n",
       "target         int64\n",
       "dtype: object"
      ]
     },
     "execution_count": 10,
     "metadata": {},
     "output_type": "execute_result"
    }
   ],
   "source": [
    "df.dtypes"
   ]
  },
  {
   "cell_type": "code",
   "execution_count": 11,
   "metadata": {},
   "outputs": [
    {
     "data": {
      "text/plain": [
       "(6, 64)"
      ]
     },
     "execution_count": 11,
     "metadata": {},
     "output_type": "execute_result"
    }
   ],
   "source": [
    "data = df['text_chunk'].apply(pd.Series)\n",
    "data.shape"
   ]
  },
  {
   "cell_type": "code",
   "execution_count": 12,
   "metadata": {
    "scrolled": true
   },
   "outputs": [
    {
     "data": {
      "text/plain": [
       "0     float64\n",
       "1     float64\n",
       "2     float64\n",
       "3     float64\n",
       "4     float64\n",
       "       ...   \n",
       "59    float64\n",
       "60    float64\n",
       "61    float64\n",
       "62    float64\n",
       "63    float64\n",
       "Length: 64, dtype: object"
      ]
     },
     "execution_count": 12,
     "metadata": {},
     "output_type": "execute_result"
    }
   ],
   "source": [
    "data.dtypes"
   ]
  },
  {
   "cell_type": "code",
   "execution_count": 13,
   "metadata": {},
   "outputs": [
    {
     "data": {
      "text/plain": [
       "(6,)"
      ]
     },
     "execution_count": 13,
     "metadata": {},
     "output_type": "execute_result"
    }
   ],
   "source": [
    "targets = df.pop('target')\n",
    "targets.shape"
   ]
  },
  {
   "cell_type": "code",
   "execution_count": 14,
   "metadata": {
    "scrolled": true
   },
   "outputs": [
    {
     "data": {
      "text/plain": [
       "dtype('int64')"
      ]
     },
     "execution_count": 14,
     "metadata": {},
     "output_type": "execute_result"
    }
   ],
   "source": [
    "targets.dtypes"
   ]
  },
  {
   "cell_type": "code",
   "execution_count": 15,
   "metadata": {},
   "outputs": [],
   "source": [
    "dataset = tf.data.Dataset.from_tensor_slices((data.values, targets.values))"
   ]
  },
  {
   "cell_type": "code",
   "execution_count": 16,
   "metadata": {},
   "outputs": [
    {
     "data": {
      "text/plain": [
       "<TensorSliceDataset shapes: ((64,), ()), types: (tf.float64, tf.int64)>"
      ]
     },
     "execution_count": 16,
     "metadata": {},
     "output_type": "execute_result"
    }
   ],
   "source": [
    "dataset"
   ]
  },
  {
   "cell_type": "code",
   "execution_count": 17,
   "metadata": {},
   "outputs": [
    {
     "name": "stdout",
     "output_type": "stream",
     "text": [
      "Features: [15. 16. 33. 34. 35.  2. 36. 17. 37. 15. 16. 18.  1.  9. 38.  8. 19. 39.\n",
      "  3. 40. 41. 20. 10. 42. 43. 44. 45. 46.  2. 21. 10. 47.  1.  4. 48. 49.\n",
      " 50. 51. 52.  5. 53. 54. 55. 56. 22. 57. 23. 24.  8. 19.  4.  2. 21. 58.\n",
      " 23. 24.  8. 59. 60.  5. 61. 25.  6. 62.], Target: 0\n",
      "Features: [63. 64. 26.  9. 65. 66. 22. 26.  9. 67. 68.  5. 25.  6. 27. 28. 69. 70.\n",
      " 71. 72.  8. 73.  4.  7. 74. 75. 76. 11.  7. 27. nan nan nan nan nan nan\n",
      " nan nan nan nan nan nan nan nan nan nan nan nan nan nan nan nan nan nan\n",
      " nan nan nan nan nan nan nan nan nan nan], Target: 0\n",
      "Features: [ 3.  6.  3. 77.  7. 20. 78.  3.  4. 79. 80. 12. 13. 81. 17.  1. nan nan\n",
      " nan nan nan nan nan nan nan nan nan nan nan nan nan nan nan nan nan nan\n",
      " nan nan nan nan nan nan nan nan nan nan nan nan nan nan nan nan nan nan\n",
      " nan nan nan nan nan nan nan nan nan nan], Target: 0\n",
      "Features: [82.  2. 29. 11. 29. 83. 84. 12. 13. 85.  5.  3.  6. nan nan nan nan nan\n",
      " nan nan nan nan nan nan nan nan nan nan nan nan nan nan nan nan nan nan\n",
      " nan nan nan nan nan nan nan nan nan nan nan nan nan nan nan nan nan nan\n",
      " nan nan nan nan nan nan nan nan nan nan], Target: 0\n",
      "Features: [ 86.  12.  13.  87.   5.   1.  88.  89.   7.  30.  90.  31.  32.  91.\n",
      "  92.  30.  11.  93.  94.  95.   2.  14.  96.  97.  14.   4.   6.  31.\n",
      "  32.  98.  10.  99. 100.  28.   7. 101.  nan  nan  nan  nan  nan  nan\n",
      "  nan  nan  nan  nan  nan  nan  nan  nan  nan  nan  nan  nan  nan  nan\n",
      "  nan  nan  nan  nan  nan  nan  nan  nan], Target: 0\n",
      "Features: [102. 103. 104. 105. 106. 107. 108. 109. 110.  18.   1. 111. 112. 113.\n",
      " 114. 115. 116.   1. 117. 118. 119.  14. 120. 121. 122.  nan  nan  nan\n",
      "  nan  nan  nan  nan  nan  nan  nan  nan  nan  nan  nan  nan  nan  nan\n",
      "  nan  nan  nan  nan  nan  nan  nan  nan  nan  nan  nan  nan  nan  nan\n",
      "  nan  nan  nan  nan  nan  nan  nan  nan], Target: 1\n"
     ]
    }
   ],
   "source": [
    "for feat, targ in dataset.take(6):\n",
    "    print('Features: {}, Target: {}'.format(feat, targ))"
   ]
  },
  {
   "cell_type": "code",
   "execution_count": 18,
   "metadata": {},
   "outputs": [],
   "source": [
    "train_dataset = dataset.shuffle(len(df)).batch(1)"
   ]
  },
  {
   "cell_type": "code",
   "execution_count": 19,
   "metadata": {},
   "outputs": [],
   "source": [
    "def get_compiled_model():\n",
    "    model = tf.keras.Sequential([\n",
    "        tf.keras.layers.Dense(10, activation='relu'),\n",
    "        tf.keras.layers.Dense(10, activation='relu'),\n",
    "        tf.keras.layers.Dense(1, activation='sigmoid')\n",
    "  ])\n",
    "\n",
    "    model.compile(optimizer='adam',\n",
    "                loss='binary_crossentropy',\n",
    "                metrics=['accuracy'])\n",
    "    return model"
   ]
  },
  {
   "cell_type": "code",
   "execution_count": 20,
   "metadata": {},
   "outputs": [
    {
     "name": "stdout",
     "output_type": "stream",
     "text": [
      "Train for 6 steps\n",
      "Epoch 1/15\n",
      "6/6 [==============================] - 0s 79ms/step - loss: nan - accuracy: 0.8333\n",
      "Epoch 2/15\n",
      "6/6 [==============================] - 0s 3ms/step - loss: nan - accuracy: 0.8333\n",
      "Epoch 3/15\n",
      "6/6 [==============================] - 0s 10ms/step - loss: nan - accuracy: 0.8333\n",
      "Epoch 4/15\n",
      "6/6 [==============================] - 0s 7ms/step - loss: nan - accuracy: 0.8333\n",
      "Epoch 5/15\n",
      "6/6 [==============================] - 0s 3ms/step - loss: nan - accuracy: 0.8333\n",
      "Epoch 6/15\n",
      "6/6 [==============================] - 0s 4ms/step - loss: nan - accuracy: 0.8333\n",
      "Epoch 7/15\n",
      "6/6 [==============================] - 0s 4ms/step - loss: nan - accuracy: 0.8333\n",
      "Epoch 8/15\n",
      "6/6 [==============================] - 0s 4ms/step - loss: nan - accuracy: 0.8333\n",
      "Epoch 9/15\n",
      "6/6 [==============================] - 0s 4ms/step - loss: nan - accuracy: 0.8333\n",
      "Epoch 10/15\n",
      "6/6 [==============================] - 0s 3ms/step - loss: nan - accuracy: 0.8333\n",
      "Epoch 11/15\n",
      "6/6 [==============================] - 0s 3ms/step - loss: nan - accuracy: 0.8333\n",
      "Epoch 12/15\n",
      "6/6 [==============================] - 0s 3ms/step - loss: nan - accuracy: 0.8333\n",
      "Epoch 13/15\n",
      "6/6 [==============================] - 0s 4ms/step - loss: nan - accuracy: 0.8333\n",
      "Epoch 14/15\n",
      "6/6 [==============================] - 0s 4ms/step - loss: nan - accuracy: 0.8333\n",
      "Epoch 15/15\n",
      "6/6 [==============================] - 0s 4ms/step - loss: nan - accuracy: 0.8333\n"
     ]
    },
    {
     "data": {
      "text/plain": [
       "<tensorflow.python.keras.callbacks.History at 0x14339d590>"
      ]
     },
     "execution_count": 20,
     "metadata": {},
     "output_type": "execute_result"
    }
   ],
   "source": [
    "model = get_compiled_model()\n",
    "model.fit(train_dataset, epochs=15)"
   ]
  },
  {
   "cell_type": "code",
   "execution_count": 21,
   "metadata": {},
   "outputs": [
    {
     "name": "stdout",
     "output_type": "stream",
     "text": [
      "Model: \"sequential\"\n",
      "_________________________________________________________________\n",
      "Layer (type)                 Output Shape              Param #   \n",
      "=================================================================\n",
      "dense (Dense)                multiple                  650       \n",
      "_________________________________________________________________\n",
      "dense_1 (Dense)              multiple                  110       \n",
      "_________________________________________________________________\n",
      "dense_2 (Dense)              multiple                  11        \n",
      "=================================================================\n",
      "Total params: 771\n",
      "Trainable params: 771\n",
      "Non-trainable params: 0\n",
      "_________________________________________________________________\n"
     ]
    }
   ],
   "source": [
    "model.summary()"
   ]
  },
  {
   "cell_type": "code",
   "execution_count": 22,
   "metadata": {},
   "outputs": [],
   "source": [
    "model.save('/Users/felipemarineli/Library/Mobile Documents/com~apple~CloudDocs/Models/clutter.h5')"
   ]
  }
 ],
 "metadata": {
  "kernelspec": {
   "display_name": "Python 3",
   "language": "python",
   "name": "python3"
  },
  "language_info": {
   "codemirror_mode": {
    "name": "ipython",
    "version": 3
   },
   "file_extension": ".py",
   "mimetype": "text/x-python",
   "name": "python",
   "nbconvert_exporter": "python",
   "pygments_lexer": "ipython3",
   "version": "3.8.5"
  }
 },
 "nbformat": 4,
 "nbformat_minor": 2
}
